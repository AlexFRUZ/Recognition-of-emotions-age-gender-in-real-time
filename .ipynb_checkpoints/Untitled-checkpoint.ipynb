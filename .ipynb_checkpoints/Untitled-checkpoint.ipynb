{
 "cells": [
  {
   "cell_type": "code",
   "execution_count": 15,
   "id": "c39d1633-fd2d-4282-9ebd-1040c560e534",
   "metadata": {},
   "outputs": [],
   "source": [
    "from keras.utils import to_categorical\n",
    "from keras.preprocessing.image import load_img\n",
    "from keras.models import Sequential\n",
    "from keras.layers import Dense, Conv2D, Dropout, Flatten, MaxPooling2D\n",
    "import os\n",
    "import pandas as pd\n",
    "import numpy as np"
   ]
  },
  {
   "cell_type": "code",
   "execution_count": 17,
   "id": "e4fe275d-0f8a-421a-94bd-1861eb228863",
   "metadata": {},
   "outputs": [],
   "source": [
    "TRAIN_DIR = 'train'\n",
    "TEST_DIR = 'test'"
   ]
  },
  {
   "cell_type": "code",
   "execution_count": 23,
   "id": "b4000914-41a3-4b85-b301-c2638f0ecc61",
   "metadata": {},
   "outputs": [],
   "source": [
    "def createdataframe(directory):\n",
    "    image_paths = []\n",
    "    labels = []\n",
    "    for label in os.listdir(directory):\n",
    "        for imagename in os.listdir(os.path.join(directory, label)):\n",
    "            image_paths.append(os.path.join(directory, label, imagename))\n",
    "            labels.append(label)\n",
    "        print(label, \"завершено\")\n",
    "    return image_paths, labels"
   ]
  },
  {
   "cell_type": "code",
   "execution_count": 26,
   "id": "9fe43211-e8c5-4717-82b7-ae86ab604485",
   "metadata": {},
   "outputs": [
    {
     "name": "stdout",
     "output_type": "stream",
     "text": [
      "angry завершено\n",
      "disgust завершено\n",
      "fear завершено\n",
      "happy завершено\n",
      "neutral завершено\n",
      "sad завершено\n",
      "surprise завершено\n"
     ]
    }
   ],
   "source": [
    "train = pd.DataFrame()\n",
    "train['image'], train['label'] = createdataframe(TEST_DIR)"
   ]
  },
  {
   "cell_type": "code",
   "execution_count": 27,
   "id": "7eb00853-33e5-4bc6-b989-7717c59a2f1f",
   "metadata": {},
   "outputs": [
    {
     "name": "stdout",
     "output_type": "stream",
     "text": [
      "                                  image     label\n",
      "0                   test\\angry\\2830.jpg     angry\n",
      "1                   test\\angry\\2836.jpg     angry\n",
      "2                   test\\angry\\2843.jpg     angry\n",
      "3                   test\\angry\\2847.jpg     angry\n",
      "4                   test\\angry\\2859.jpg     angry\n",
      "...                                 ...       ...\n",
      "7424  test\\surprise\\Training_870398.jpg  surprise\n",
      "7425    test\\surprise\\Training_8796.jpg  surprise\n",
      "7426  test\\surprise\\Training_941343.jpg  surprise\n",
      "7427  test\\surprise\\Training_976799.jpg  surprise\n",
      "7428  test\\surprise\\Training_991508.jpg  surprise\n",
      "\n",
      "[7429 rows x 2 columns]\n"
     ]
    }
   ],
   "source": [
    "print(train)"
   ]
  },
  {
   "cell_type": "code",
   "execution_count": 30,
   "id": "fd032685-09d4-4583-8560-a6d6ac3abd9f",
   "metadata": {},
   "outputs": [
    {
     "name": "stdout",
     "output_type": "stream",
     "text": [
      "angry завершено\n",
      "disgust завершено\n",
      "fear завершено\n",
      "happy завершено\n",
      "neutral завершено\n",
      "sad завершено\n",
      "surprise завершено\n"
     ]
    }
   ],
   "source": [
    "test = pd.DataFrame()\n",
    "test['image'], test['label'] = createdataframe(TRAIN_DIR)"
   ]
  },
  {
   "cell_type": "code",
   "execution_count": 33,
   "id": "9b74e9a3-e2c9-4775-bb98-5922a9a5d692",
   "metadata": {},
   "outputs": [
    {
     "name": "stdout",
     "output_type": "stream",
     "text": [
      "                                      image     label\n",
      "0         train\\angry\\Training_10118481.jpg     angry\n",
      "1         train\\angry\\Training_10120469.jpg     angry\n",
      "2         train\\angry\\Training_10131352.jpg     angry\n",
      "3         train\\angry\\Training_10161559.jpg     angry\n",
      "4          train\\angry\\Training_1021836.jpg     angry\n",
      "...                                     ...       ...\n",
      "28704  train\\surprise\\Training_99916297.jpg  surprise\n",
      "28705  train\\surprise\\Training_99924420.jpg  surprise\n",
      "28706  train\\surprise\\Training_99937001.jpg  surprise\n",
      "28707  train\\surprise\\Training_99951755.jpg  surprise\n",
      "28708  train\\surprise\\Training_99984132.jpg  surprise\n",
      "\n",
      "[28709 rows x 2 columns]\n",
      "0           train\\angry\\Training_10118481.jpg\n",
      "1           train\\angry\\Training_10120469.jpg\n",
      "2           train\\angry\\Training_10131352.jpg\n",
      "3           train\\angry\\Training_10161559.jpg\n",
      "4            train\\angry\\Training_1021836.jpg\n",
      "                         ...                 \n",
      "28704    train\\surprise\\Training_99916297.jpg\n",
      "28705    train\\surprise\\Training_99924420.jpg\n",
      "28706    train\\surprise\\Training_99937001.jpg\n",
      "28707    train\\surprise\\Training_99951755.jpg\n",
      "28708    train\\surprise\\Training_99984132.jpg\n",
      "Name: image, Length: 28709, dtype: object\n"
     ]
    }
   ],
   "source": [
    "print(test)\n",
    "print(test['image'])"
   ]
  },
  {
   "cell_type": "code",
   "execution_count": 35,
   "id": "895fa897-50ad-432c-b348-329f4d8da87d",
   "metadata": {},
   "outputs": [],
   "source": [
    "from tqdm.notebook import tqdm"
   ]
  },
  {
   "cell_type": "code",
   "execution_count": null,
   "id": "2436e0f8-2bd0-4a41-a5ff-e586f052750e",
   "metadata": {},
   "outputs": [],
   "source": [
    "def extract_features(images):\n",
    "    features = []\n",
    "    for image in tqdm(images):\n",
    "        img = load_img(image,grayscale =  True )\n",
    "        img = np.array(img)\n",
    "        features.append(img)\n",
    "    features = np.array(features)\n",
    "    features = features.reshape(len(features),48,48,1)\n",
    "    return features"
   ]
  }
 ],
 "metadata": {
  "kernelspec": {
   "display_name": "Python 3 (ipykernel)",
   "language": "python",
   "name": "python3"
  },
  "language_info": {
   "codemirror_mode": {
    "name": "ipython",
    "version": 3
   },
   "file_extension": ".py",
   "mimetype": "text/x-python",
   "name": "python",
   "nbconvert_exporter": "python",
   "pygments_lexer": "ipython3",
   "version": "3.9.13"
  }
 },
 "nbformat": 4,
 "nbformat_minor": 5
}
